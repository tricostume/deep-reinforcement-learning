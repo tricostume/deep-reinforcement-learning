{
 "cells": [
  {
   "cell_type": "markdown",
   "metadata": {},
   "source": [
    "# Project 3: Collaboration and competition\n",
    "\n",
    "The code is structured in the next way:\n",
    "- Tennis_solution.ipynb: Main function. Just need to run one cell for training or another one for testing with the train model.\n",
    "- DDPGAgent.py: Contains a generic DDPG agent and the specific implementations of the randomic buffer replay and the noise source.\n",
    "- maddpg.py: Encompasses the listing of several agents to work in the multi agent sense. For this interfacing functions are created to work with stacked observations, actions, rewards and replay members. In the same manner the MADDPG algorithm for training and inference is programmed by storing the deep neural networks in a convenient manner.\n",
    "- models.py: Contains the proposed models for the actor and the critic, characteristic of a DDPG agent.\n",
    "- utils.py: Contains some helper functions for encoding and decoding the replay members to allow for stacked data structures to be used as entities.\n",
    "\n",
    "Run the next cell to perform the training. Go to the next cell if model import and testing is desired."
   ]
  },
  {
   "cell_type": "code",
   "execution_count": 1,
   "metadata": {
    "scrolled": true
   },
   "outputs": [
    {
     "name": "stdout",
     "output_type": "stream",
     "text": [
      "\u001b[31mtensorflow 1.7.1 has requirement numpy>=1.13.3, but you'll have numpy 1.12.1 which is incompatible.\u001b[0m\r\n",
      "\u001b[31mipython 6.5.0 has requirement prompt-toolkit<2.0.0,>=1.0.15, but you'll have prompt-toolkit 2.0.9 which is incompatible.\u001b[0m\r\n"
     ]
    }
   ],
   "source": [
    "#!pip -q install ./python #Not needed, this was just useful for my virtual environment on the cloud."
   ]
  },
  {
   "cell_type": "code",
   "execution_count": 2,
   "metadata": {
    "scrolled": false
   },
   "outputs": [
    {
     "name": "stderr",
     "output_type": "stream",
     "text": [
      "INFO:unityagents:\n",
      "'Academy' started successfully!\n",
      "Unity Academy name: Academy\n",
      "        Number of Brains: 1\n",
      "        Number of External Brains : 1\n",
      "        Lesson number : 0\n",
      "        Reset Parameters :\n",
      "\t\t\n",
      "Unity brain name: TennisBrain\n",
      "        Number of Visual Observations (per agent): 0\n",
      "        Vector Observation space type: continuous\n",
      "        Vector Observation space size (per agent): 8\n",
      "        Number of stacked Vector Observation: 3\n",
      "        Vector Action space type: continuous\n",
      "        Vector Action space size (per agent): 2\n",
      "        Vector Action descriptions: , \n"
     ]
    },
    {
     "name": "stdout",
     "output_type": "stream",
     "text": [
      "Number of agents: 2\n",
      "Size of each action: 2\n",
      "There are 2 agents. Each observes a state with length: 24\n",
      "The state for the first agent looks like: [ 0.          0.          0.          0.          0.          0.          0.\n",
      "  0.          0.          0.          0.          0.          0.          0.\n",
      "  0.          0.         -6.65278625 -1.5        -0.          0.\n",
      "  6.83172083  6.         -0.          0.        ]\n",
      "Episode 100\tAverage Score: 0.00\tlast score: 0.00\n",
      "Episode 200\tAverage Score: 0.01\tlast score: 0.00\n",
      "Episode 300\tAverage Score: 0.01\tlast score: 0.09\n",
      "Episode 400\tAverage Score: 0.05\tlast score: 0.10\n",
      "Episode 500\tAverage Score: 0.04\tlast score: 0.00\n",
      "Episode 600\tAverage Score: 0.05\tlast score: 0.10\n",
      "Episode 700\tAverage Score: 0.04\tlast score: 0.10\n",
      "Episode 800\tAverage Score: 0.04\tlast score: 0.10\n",
      "Episode 900\tAverage Score: 0.04\tlast score: 0.00\n",
      "Episode 1000\tAverage Score: 0.05\tlast score: 0.10\n",
      "Episode 1100\tAverage Score: 0.05\tlast score: 0.09\n",
      "Episode 1200\tAverage Score: 0.09\tlast score: 0.10\n",
      "Episode 1300\tAverage Score: 0.09\tlast score: 0.10\n",
      "Episode 1400\tAverage Score: 0.09\tlast score: 0.09\n",
      "Episode 1500\tAverage Score: 0.08\tlast score: 0.00\n",
      "Episode 1600\tAverage Score: 0.07\tlast score: 0.09\n",
      "Episode 1700\tAverage Score: 0.10\tlast score: 0.00\n",
      "Episode 1800\tAverage Score: 0.16\tlast score: 0.10\n",
      "Episode 1900\tAverage Score: 0.17\tlast score: 0.10\n",
      "Episode 2000\tAverage Score: 0.15\tlast score: 0.10\n",
      "Episode 2100\tAverage Score: 0.31\tlast score: 0.10\n",
      "Episode 2200\tAverage Score: 0.43\tlast score: 0.20\n",
      "Episode 2300\tAverage Score: 0.22\tlast score: 0.10\n",
      "Episode 2400\tAverage Score: 0.18\tlast score: 0.10\n",
      "Episode 2500\tAverage Score: 0.43\tlast score: 1.40\n",
      "Episode 2508\tAverage Score: 0.51\tlast score: 2.60\n",
      "Environment solved in 2408 episodes!\tAverage Score: 0.51\n"
     ]
    },
    {
     "data": {
      "image/png": "[encoded data removed]",
      "text/plain": [
       "<matplotlib.figure.Figure at 0x7f4b04d910f0>"
      ]
     },
     "metadata": {
      "needs_background": "light"
     },
     "output_type": "display_data"
    },
    {
     "data": {
      "text/plain": [
       "'\\nagent = MADDPG(state_size, action_size, seed=10, a_check=None, c_check=None, gamma=0.995, tau=1e-3, add_noise=False, mu=0.,\\n                 theta=0.15, sigma=0.2, lr_actor=1e-4, lr_critic=4e-3,buffer_size=1e5, batch_size=200, update_every = 4,\\n                 low_action=-1, high_action=1, num_agents=2, warm_up=0, consecutive_learns=3, clip_critic_grad=0)\\n                 \\nEpisode 100\\tAverage Score: 0.03\\tlast score: 0.00\\nEpisode 200\\tAverage Score: 0.00\\tlast score: 0.00\\nEpisode 300\\tAverage Score: 0.02\\tlast score: 0.00\\nEpisode 400\\tAverage Score: 0.01\\tlast score: 0.00\\nEpisode 500\\tAverage Score: 0.01\\tlast score: 0.00\\nEpisode 600\\tAverage Score: 0.00\\tlast score: 0.00\\nEpisode 700\\tAverage Score: 0.01\\tlast score: 0.00\\nEpisode 800\\tAverage Score: 0.04\\tlast score: 0.00\\nEpisode 900\\tAverage Score: 0.01\\tlast score: 0.00\\nEpisode 1000\\tAverage Score: 0.07\\tlast score: 0.10\\nEpisode 1100\\tAverage Score: 0.09\\tlast score: 0.09\\nEpisode 1200\\tAverage Score: 0.08\\tlast score: 0.10\\nEpisode 1300\\tAverage Score: 0.08\\tlast score: 0.10\\nEpisode 1400\\tAverage Score: 0.11\\tlast score: 0.10\\nEpisode 1500\\tAverage Score: 0.10\\tlast score: 0.10\\nEpisode 1600\\tAverage Score: 0.12\\tlast score: 0.10\\nEpisode 1700\\tAverage Score: 0.08\\tlast score: 0.00\\nEpisode 1800\\tAverage Score: 0.08\\tlast score: 0.10\\nEpisode 1900\\tAverage Score: 0.11\\tlast score: 0.20\\nEpisode 2000\\tAverage Score: 0.08\\tlast score: 0.10\\nEpisode 2100\\tAverage Score: 0.23\\tlast score: 0.10\\nEpisode 2200\\tAverage Score: 0.14\\tlast score: 0.10\\nEpisode 2300\\tAverage Score: 0.10\\tlast score: 0.10\\nEpisode 2400\\tAverage Score: 0.24\\tlast score: 0.20\\nEpisode 2500\\tAverage Score: 0.31\\tlast score: 0.10\\nEpisode 2600\\tAverage Score: 0.29\\tlast score: 1.00\\nEpisode 2700\\tAverage Score: 0.54\\tlast score: 0.00\\nEpisode 2703\\tAverage Score: 0.51\\tlast score: 0.00\\n'"
      ]
     },
     "execution_count": 2,
     "metadata": {},
     "output_type": "execute_result"
    }
   ],
   "source": [
    "from unityagents import UnityEnvironment\n",
    "import numpy as np\n",
    "import matplotlib.pyplot as plt\n",
    "plt.style.use('ggplot')\n",
    "%matplotlib inline\n",
    "import torch\n",
    "from collections import deque\n",
    "from maddpg import MADDPG\n",
    "\n",
    "env = UnityEnvironment(file_name=\"/data/Tennis_Linux_NoVis/Tennis\")\n",
    "\n",
    "# get the default brain\n",
    "brain_name = env.brain_names[0]\n",
    "brain = env.brains[brain_name]\n",
    "\n",
    "# reset the environment\n",
    "env_info = env.reset(train_mode=True)[brain_name]\n",
    "\n",
    "# number of agents\n",
    "num_agents = len(env_info.agents)\n",
    "print('Number of agents:', num_agents)\n",
    "\n",
    "# size of each action\n",
    "action_size = brain.vector_action_space_size\n",
    "print('Size of each action:', action_size)\n",
    "\n",
    "# examine the state space\n",
    "states = env_info.vector_observations\n",
    "state_size = states.shape[1]\n",
    "print('There are {} agents. Each observes a state with length: {}'.format(states.shape[0], state_size))\n",
    "print('The state for the first agent looks like:', states[0])\n",
    "'''\n",
    "count = 0\n",
    "import time\n",
    "for i in range(1, 6):                                      # play game for 5 episodes\n",
    "    env_info = env.reset(train_mode=False)[brain_name]     # reset the environment\n",
    "    states = env_info.vector_observations                  # get the current state (for each agent)\n",
    "    scores = np.zeros(num_agents)                          # initialize the score (for each agent)\n",
    "    while True:\n",
    "        count += 1\n",
    "        #time.sleep(3)\n",
    "        actions = np.random.randn(num_agents, action_size) # select an action (for each agent)\n",
    "        actions = np.clip(actions, -1, 1)                  # all actions between -1 and 1\n",
    "        env_info = env.step(actions)[brain_name]           # send all actions to tne environment\n",
    "        next_states = env_info.vector_observations         # get next state (for each agent)\n",
    "        #print(\"Agent 1:\")\n",
    "        #print(str(next_states[0]))\n",
    "        #print(\"Agent 2:\")\n",
    "        #print(str(next_states[1]))\n",
    "        #print()\n",
    "        rewards = env_info.rewards                         # get reward (for each agent)\n",
    "        dones = env_info.local_done                        # see if episode finished\n",
    "        scores += env_info.rewards                         # update the score (for each agent)\n",
    "        states = next_states                               # roll over states to next time step\n",
    "        if np.any(dones) or count==10:                                  # exit loop if episode finished\n",
    "            break\n",
    "    print('Score (max over agents) from episode {}: {}'.format(i, np.max(scores)))\n",
    "\n",
    "env.close()\n",
    "'''\n",
    "\n",
    "# Create an agent, pass a desired size for the hiden layers.\n",
    "agent = MADDPG(state_size, action_size, seed=10, a_check=(None,None), c_check=(None,None), gamma=0.995, tau=1e-3, add_noise=False, mu=0.,\n",
    "                 theta=0.15, sigma=0.2, lr_actor=1e-4, lr_critic=3.5e-3,buffer_size=1e5, batch_size=200, update_every = 4,\n",
    "                 low_action=-1, high_action=1, num_agents=2, warm_up=0, consecutive_learns=3, clip_critic_grad=0)\n",
    "\n",
    "\n",
    "# Define dqn algorithm\n",
    "def maddpg(n_episodes=10000, max_t=1000, eps_start=1.0, eps_end=0.01, eps_decay=0.995):\n",
    "    \"\"\"Deep Q-Learning.\n",
    "\n",
    "    Params\n",
    "    ======\n",
    "        n_episodes (int): maximum number of training episodes\n",
    "        max_t (int): maximum number of timesteps per episode\n",
    "        eps_start (float): starting value of epsilon, for epsilon-greedy action selection\n",
    "        eps_end (float): minimum value of epsilon\n",
    "        eps_decay (float): multiplicative factor (per episode) for decreasing epsilon\n",
    "    \"\"\"\n",
    "    scores = []  # list containing scores from each episode\n",
    "    scores_window = deque(maxlen=100)  # last 100 scores\n",
    "    eps = eps_start  # initialize epsilon\n",
    "    for i_episode in range(1, n_episodes + 1):\n",
    "        env_info = env.reset(train_mode=True)[brain_name]\n",
    "        states = env_info.vector_observations\n",
    "        agent.reset()\n",
    "        score = np.zeros(2)\n",
    "        while True:\n",
    "            actions = agent.act(states, random=False)\n",
    "            env_info = env.step(actions)[brain_name]\n",
    "            next_states, rewards, dones = env_info.vector_observations, env_info.rewards, env_info.local_done\n",
    "\n",
    "            #next_state = agent.state_normalizer(next_state)\n",
    "            #reward = agent.reward_normalizer(reward)\n",
    "    \n",
    "            agent.step(states, actions, rewards, next_states, dones, i_episode)\n",
    "            states = next_states\n",
    "            score += rewards\n",
    "            if np.any(dones):\n",
    "                break\n",
    "        episode_score = np.max(score)\n",
    "        scores_window.append(episode_score)  # save most recent score\n",
    "        scores.append(episode_score)  # save most recent score\n",
    "        eps = max(eps_end, eps_decay * eps)  # decrease epsilon\n",
    "        print('\\rEpisode {}\\tAverage Score: {:.2f}\\tlast score: {:.2f}'.format(i_episode, np.mean(scores_window), episode_score), end=\"\")\n",
    "        if i_episode % 100 == 0:\n",
    "            print('\\nEpisode {}\\tAverage Score: {:.2f}\\tlast score: {:.2f}'.format(i_episode, np.mean(scores_window), episode_score), end=\"\")\n",
    "        if np.mean(scores_window) >= 0.5 and i_episode > 50:\n",
    "            print('\\nEnvironment solved in {:d} episodes!\\tAverage Score: {:.2f}'.format(i_episode - 100,\n",
    "                                                                                         np.mean(scores_window)))\n",
    "            for i in range(0, num_agents):\n",
    "                torch.save(agent.agents[i].critic.state_dict(), 'my_critic_{}.pth'.format(i))\n",
    "                torch.save(agent.agents[i].actor.state_dict(), 'my_actor_{}.pth'.format(i))\n",
    "            break\n",
    "        # A small step in learning rate to allow for quicker convergence with above set parameters\n",
    "        #if i_episode == 1200:\n",
    "        #    agent.adjust_learning_rate(1200, 2E-5)\n",
    "    return scores\n",
    "\n",
    "\n",
    "scores = maddpg()\n",
    "\n",
    "env.close()\n",
    "\n",
    "# plot the scores\n",
    "fig = plt.figure()\n",
    "ax = fig.add_subplot(111)\n",
    "plt.plot(np.arange(len(scores)), scores)\n",
    "plt.ylabel('Score')\n",
    "plt.xlabel('Episode #')\n",
    "plt.show()\n",
    "\n",
    "# Save scores\n",
    "with open('scores.txt', 'w') as f:\n",
    "    for item in scores:\n",
    "        f.write(\"%f\\n\" % item)\n",
    "\n",
    "\n",
    "'''\n",
    "A second run with the headed environment needed of retuning lr_actor parameter:\n",
    "agent = MADDPG(state_size, action_size, seed=10, a_check=None, c_check=None, gamma=0.995, tau=1e-3, add_noise=False, mu=0.,\n",
    "                 theta=0.15, sigma=0.2, lr_actor=1e-4, lr_critic=4e-3,buffer_size=1e5, batch_size=200, update_every = 4,\n",
    "                 low_action=-1, high_action=1, num_agents=2, warm_up=0, consecutive_learns=3, clip_critic_grad=0)\n",
    "                 \n",
    "Episode 100\tAverage Score: 0.03\tlast score: 0.00\n",
    "Episode 200\tAverage Score: 0.00\tlast score: 0.00\n",
    "Episode 300\tAverage Score: 0.02\tlast score: 0.00\n",
    "Episode 400\tAverage Score: 0.01\tlast score: 0.00\n",
    "Episode 500\tAverage Score: 0.01\tlast score: 0.00\n",
    "Episode 600\tAverage Score: 0.00\tlast score: 0.00\n",
    "Episode 700\tAverage Score: 0.01\tlast score: 0.00\n",
    "Episode 800\tAverage Score: 0.04\tlast score: 0.00\n",
    "Episode 900\tAverage Score: 0.01\tlast score: 0.00\n",
    "Episode 1000\tAverage Score: 0.07\tlast score: 0.10\n",
    "Episode 1100\tAverage Score: 0.09\tlast score: 0.09\n",
    "Episode 1200\tAverage Score: 0.08\tlast score: 0.10\n",
    "Episode 1300\tAverage Score: 0.08\tlast score: 0.10\n",
    "Episode 1400\tAverage Score: 0.11\tlast score: 0.10\n",
    "Episode 1500\tAverage Score: 0.10\tlast score: 0.10\n",
    "Episode 1600\tAverage Score: 0.12\tlast score: 0.10\n",
    "Episode 1700\tAverage Score: 0.08\tlast score: 0.00\n",
    "Episode 1800\tAverage Score: 0.08\tlast score: 0.10\n",
    "Episode 1900\tAverage Score: 0.11\tlast score: 0.20\n",
    "Episode 2000\tAverage Score: 0.08\tlast score: 0.10\n",
    "Episode 2100\tAverage Score: 0.23\tlast score: 0.10\n",
    "Episode 2200\tAverage Score: 0.14\tlast score: 0.10\n",
    "Episode 2300\tAverage Score: 0.10\tlast score: 0.10\n",
    "Episode 2400\tAverage Score: 0.24\tlast score: 0.20\n",
    "Episode 2500\tAverage Score: 0.31\tlast score: 0.10\n",
    "Episode 2600\tAverage Score: 0.29\tlast score: 1.00\n",
    "Episode 2700\tAverage Score: 0.54\tlast score: 0.00\n",
    "Episode 2703\tAverage Score: 0.51\tlast score: 0.00\n",
    "'''"
   ]
  },
  {
   "cell_type": "markdown",
   "metadata": {},
   "source": [
    "## Loading score history only\n",
    "\n",
    "Notice that the scores were saved in scores.txt. They can be imported as seen in the next cell. The algorithm could solve the agent-environment interaction after 2408 episodes, but in reality we observed potential to grow further. See the README section to get to know more."
   ]
  },
  {
   "cell_type": "code",
   "execution_count": 1,
   "metadata": {},
   "outputs": [
    {
     "data": {
      "image/png": "[encoded data removed]",
      "text/plain": [
       "<Figure size 432x288 with 1 Axes>"
      ]
     },
     "metadata": {},
     "output_type": "display_data"
    }
   ],
   "source": [
    "import matplotlib.pyplot as plt\n",
    "import numpy as np\n",
    "%matplotlib inline\n",
    "plt.style.use('ggplot')\n",
    "# plot the scores\n",
    "i_scores = []\n",
    "with open('scores.txt', 'r') as f:  \n",
    "    for line in f:\n",
    "        # remove linebreak which is the last character of the string\n",
    "        val = line[:-1]\n",
    "        # add item to the list\n",
    "        i_scores.append(float(val))\n",
    "       \n",
    "fig = plt.figure()\n",
    "ax = fig.add_subplot(111)\n",
    "plt.plot(np.arange(len(i_scores)), i_scores)\n",
    "plt.ylabel('Score')\n",
    "plt.xlabel('Episode #')\n",
    "plt.show()"
   ]
  },
  {
   "cell_type": "markdown",
   "metadata": {},
   "source": [
    "## Loading pretrained model and testing only\n",
    "\n",
    "Run the next cell for testing only. Notice that we are reloading the environment, this time the version with visual interface attached. Also our pretrained model is being loaded into an agent instance and used for the loop."
   ]
  },
  {
   "cell_type": "code",
   "execution_count": null,
   "metadata": {
    "scrolled": false
   },
   "outputs": [
    {
     "name": "stderr",
     "output_type": "stream",
     "text": [
      "INFO:unityagents:\n",
      "'Academy' started successfully!\n",
      "Unity Academy name: Academy\n",
      "        Number of Brains: 1\n",
      "        Number of External Brains : 1\n",
      "        Lesson number : 0\n",
      "        Reset Parameters :\n",
      "\t\t\n",
      "Unity brain name: TennisBrain\n",
      "        Number of Visual Observations (per agent): 0\n",
      "        Vector Observation space type: continuous\n",
      "        Vector Observation space size (per agent): 8\n",
      "        Number of stacked Vector Observation: 3\n",
      "        Vector Action space type: continuous\n",
      "        Vector Action space size (per agent): 2\n",
      "        Vector Action descriptions: , \n"
     ]
    }
   ],
   "source": [
    "from unityagents import UnityEnvironment\n",
    "import numpy as np\n",
    "import torch\n",
    "from maddpg import MADDPG\n",
    "\n",
    "env = UnityEnvironment(file_name='Tennis_Linux/Tennis.x86_64')\n",
    "brain_name = env.brain_names[0]\n",
    "brain = env.brains[brain_name]\n",
    "env_info = env.reset(train_mode=False)[brain_name]  # reset the environment\n",
    "num_agents = len(env_info.agents)\n",
    "action_size = brain.vector_action_space_size\n",
    "states = env_info.vector_observations\n",
    "state_size = states.shape[1]\n",
    "\n",
    "a_ch0 = torch.load('my_actor_0.pth', map_location=lambda storage, loc: storage)\n",
    "c_ch0 = torch.load('my_critic_0.pth', map_location=lambda storage, loc: storage)\n",
    "a_ch1 = torch.load('my_actor_1.pth', map_location=lambda storage, loc: storage)\n",
    "c_ch1 = torch.load('my_critic_1.pth', map_location=lambda storage, loc: storage)\n",
    "agent = MADDPG(state_size, action_size, seed=10, a_check=(a_ch0,a_ch1), c_check=(c_ch0,c_ch1), gamma=0.995, tau=1e-3, add_noise=False, mu=0.,\n",
    "                 theta=0.15, sigma=0.2, lr_actor=1e-4, lr_critic=3.5e-3,buffer_size=1e5, batch_size=200, update_every = 4,\n",
    "                 low_action=-1, high_action=1, num_agents=2, warm_up=0, consecutive_learns=3, clip_critic_grad=0)\n",
    "\n",
    "scores = np.zeros(2)\n",
    "count = 0\n",
    "episodes = 0\n",
    "while True:\n",
    "    count += 1\n",
    "    actions = agent.act(states, random=False)\n",
    "    env_info = env.step(actions)[brain_name]\n",
    "    next_states, rewards, dones = env_info.vector_observations, env_info.rewards, env_info.local_done\n",
    "    states = next_states\n",
    "    scores += rewards\n",
    "    if np.any(dones):                                  # exit loop if episode finished\n",
    "        episodes += 1\n",
    "        if episodes == 10:\n",
    "            break\n",
    "print('Score (max over agents): {}'.format(np.max(scores)))\n",
    "\n",
    "env.close()"
   ]
  }
 ],
 "metadata": {
  "kernelspec": {
   "display_name": "Python 3",
   "language": "python",
   "name": "python3"
  },
  "language_info": {
   "codemirror_mode": {
    "name": "ipython",
    "version": 3
   },
   "file_extension": ".py",
   "mimetype": "text/x-python",
   "name": "python",
   "nbconvert_exporter": "python",
   "pygments_lexer": "ipython3",
   "version": "3.6.7"
  }
 },
 "nbformat": 4,
 "nbformat_minor": 2
}
