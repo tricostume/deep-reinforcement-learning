{
 "cells": [
  {
   "cell_type": "markdown",
   "metadata": {},
   "source": [
    "# Project 1: Navigation\n",
    "\n",
    "The code is structured in the next way:\n",
    "- Navigation.ipynb: Main function. Just need to run one cell for training or another one for testing with the train model.\n",
    "- prio_rep_double_dqn_agent.py: Contains the implementation of the agent.\n",
    "- model2.py: Contains the implementation of the deep neural network with torch.\n",
    "- prioritized_memory.py: Contains a personalized interface to a custom memory.\n",
    "- SumTree.py: Contains the particular implementation of the memory used for replay.\n",
    "\n",
    "Run the next cell to perform the training. Go to the next cell if model import and testing is desired."
   ]
  },
  {
   "cell_type": "code",
   "execution_count": 1,
   "metadata": {},
   "outputs": [
    {
     "name": "stderr",
     "output_type": "stream",
     "text": [
      "INFO:unityagents:\n",
      "'Academy' started successfully!\n",
      "Unity Academy name: Academy\n",
      "        Number of Brains: 1\n",
      "        Number of External Brains : 1\n",
      "        Lesson number : 0\n",
      "        Reset Parameters :\n",
      "\t\t\n",
      "Unity brain name: BananaBrain\n",
      "        Number of Visual Observations (per agent): 0\n",
      "        Vector Observation space type: continuous\n",
      "        Vector Observation space size (per agent): 37\n",
      "        Number of stacked Vector Observation: 1\n",
      "        Vector Action space type: discrete\n",
      "        Vector Action space size (per agent): 4\n",
      "        Vector Action descriptions: , , , \n"
     ]
    },
    {
     "name": "stdout",
     "output_type": "stream",
     "text": [
      "Number of agents: 1\n",
      "Number of actions: 4\n",
      "States look like: [1.         0.         0.         0.         0.84408134 0.\n",
      " 0.         1.         0.         0.0748472  0.         1.\n",
      " 0.         0.         0.25755    1.         0.         0.\n",
      " 0.         0.74177343 0.         1.         0.         0.\n",
      " 0.25854847 0.         0.         1.         0.         0.09355672\n",
      " 0.         1.         0.         0.         0.31969345 0.\n",
      " 0.        ]\n",
      "States have length: 37\n",
      "Episode 100\tAverage Score: 0.67\tepsilon: 0.61\tbeta: 0.52\n",
      "Episode 200\tAverage Score: 2.13\tepsilon: 0.37\tbeta: 0.54\n",
      "Episode 300\tAverage Score: 4.34\tepsilon: 0.22\tbeta: 0.57\n",
      "Episode 400\tAverage Score: 5.25\tepsilon: 0.13\tbeta: 0.59\n",
      "Episode 500\tAverage Score: 7.08\tepsilon: 0.08\tbeta: 0.61\n",
      "Episode 600\tAverage Score: 7.86\tepsilon: 0.05\tbeta: 0.63\n",
      "Episode 700\tAverage Score: 9.53\tepsilon: 0.03\tbeta: 0.66\n",
      "Episode 800\tAverage Score: 9.89\tepsilon: 0.02\tbeta: 0.68\n",
      "Episode 900\tAverage Score: 9.58\tepsilon: 0.01\tbeta: 0.700\n",
      "Episode 1000\tAverage Score: 11.00\tepsilon: 0.01\tbeta: 0.72\n",
      "Episode 1100\tAverage Score: 11.47\tepsilon: 0.01\tbeta: 0.75\n",
      "Episode 1200\tAverage Score: 12.10\tepsilon: 0.01\tbeta: 0.77\n",
      "Episode 1200\tAverage Score: 12.10\tepsilon: 0.01\tbeta: 0.77adjusting learning rate!\n",
      "Episode 1294\tAverage Score: 13.00\tepsilon: 0.01\tbeta: 0.79\n",
      "Environment solved in 1194 episodes!\tAverage Score: 13.00\n"
     ]
    },
    {
     "data": {
      "text/plain": [
       "<Figure size 640x480 with 1 Axes>"
      ]
     },
     "metadata": {},
     "output_type": "display_data"
    }
   ],
   "source": [
    "from unityagents import UnityEnvironment\n",
    "import numpy as np\n",
    "import torch\n",
    "from collections import deque\n",
    "import matplotlib.pyplot as plt\n",
    "from prio_rep_double_dqn_agent import Agent\n",
    "\n",
    "# Load HEADLESS environment for training, the default brain and reset the environment\n",
    "env = UnityEnvironment(file_name=\"Banana_Linux_NoVis/Banana.x86_64\")\n",
    "brain_name = env.brain_names[0]\n",
    "brain = env.brains[brain_name]\n",
    "env_info = env.reset(train_mode=True)[brain_name]\n",
    "print('Number of agents:', len(env_info.agents))\n",
    "action_size = brain.vector_action_space_size\n",
    "print('Number of actions:', action_size)\n",
    "state = env_info.vector_observations[0]\n",
    "print('States look like:', state)\n",
    "state_size = len(state)\n",
    "print('States have length:', state_size)\n",
    "\n",
    "# Create an agent, pass a desired size for the hiden layers.\n",
    "agent = Agent(state_size=37, action_size=4, hidden_size=2400, seed=0)\n",
    "\n",
    "\n",
    "# Define dqn algorithm\n",
    "def dqn(n_episodes=2000, max_t=1000, eps_start=1.0, eps_end=0.01, eps_decay=0.995):\n",
    "    \"\"\"Deep Q-Learning.\n",
    "\n",
    "    Params\n",
    "    ======\n",
    "        n_episodes (int): maximum number of training episodes\n",
    "        max_t (int): maximum number of timesteps per episode\n",
    "        eps_start (float): starting value of epsilon, for epsilon-greedy action selection\n",
    "        eps_end (float): minimum value of epsilon\n",
    "        eps_decay (float): multiplicative factor (per episode) for decreasing epsilon\n",
    "    \"\"\"\n",
    "    scores = []  # list containing scores from each episode\n",
    "    scores_window = deque(maxlen=100)  # last 100 scores\n",
    "    eps = eps_start  # initialize epsilon\n",
    "    for i_episode in range(1, n_episodes + 1):\n",
    "        env_info = env.reset(train_mode=True)[brain_name]\n",
    "        state = env_info.vector_observations[0]\n",
    "        score = 0\n",
    "        for t in range(max_t):\n",
    "            action = agent.act(env_info.vector_observations[0], eps)\n",
    "            env_info = env.step(action)[brain_name]\n",
    "            next_state, reward, done = env_info.vector_observations[0], env_info.rewards[0], env_info.local_done[0]\n",
    "            agent.step(state, action, reward, next_state, done)\n",
    "            state = next_state\n",
    "            score += reward\n",
    "            if done:\n",
    "                break\n",
    "        scores_window.append(score)  # save most recent score\n",
    "        scores.append(score)  # save most recent score\n",
    "        eps = max(eps_end, eps_decay * eps)  # decrease epsilon\n",
    "        print('\\rEpisode {}\\tAverage Score: {:.2f}\\tepsilon: {:.2f}\\tbeta: {:.2f}'.format(i_episode,\n",
    "                                                                                          np.mean(scores_window), eps,\n",
    "                                                                                          agent.memory.memory.beta),\n",
    "              end=\"\")\n",
    "        if i_episode % 100 == 0:\n",
    "            print('\\nEpisode {}\\tAverage Score: {:.2f}\\tepsilon: {:.2f}\\tbeta: {:.2f}'.format(i_episode,\n",
    "                                                                                              np.mean(scores_window),\n",
    "                                                                                              eps,\n",
    "                                                                                              agent.memory.memory.beta),\n",
    "                  end=\"\")\n",
    "        if np.mean(scores_window) >= 13.0:\n",
    "            print('\\nEnvironment solved in {:d} episodes!\\tAverage Score: {:.2f}'.format(i_episode - 100,\n",
    "                                                                                         np.mean(scores_window)))\n",
    "            torch.save(agent.qnetwork_local.state_dict(), 'checkpoint.pth')\n",
    "            break\n",
    "        # A small step in learning rate to allow for quicker convergence with above set parameters\n",
    "        if i_episode == 1200:\n",
    "            agent.adjust_learning_rate(1200, 2E-5)\n",
    "    return scores\n",
    "\n",
    "\n",
    "scores = dqn()\n",
    "\n",
    "env.close()"
   ]
  },
  {
   "cell_type": "markdown",
   "metadata": {},
   "source": [
    "## Plotting the score history (or loading it from our experiments)\n",
    "\n",
    "Notice that the scores were saved in score.txt. They can be imported as seen in the next cell. We also print here a simple graph with the scores. The algorithm could solve the agent-environment interaction after 1194 episodes, but in reality we observed potential to grow further. See the README section to get to know more."
   ]
  },
  {
   "cell_type": "code",
   "execution_count": 14,
   "metadata": {
    "scrolled": false
   },
   "outputs": [
    {
     "data": {
      "image/png": "[encoded data removed]",
      "text/plain": [
       "<Figure size 432x288 with 1 Axes>"
      ]
     },
     "metadata": {
      "needs_background": "light"
     },
     "output_type": "display_data"
    },
    {
     "data": {
      "text/plain": [
       "\"\\n#To get the saved scores into a list we can just run the next code\\n\\ni_scores = []\\nwith open('scores.txt', 'r') as f:  \\n    for line in f:\\n        # remove linebreak which is the last character of the string\\n        val = line[:-1]\\n        # add item to the list\\n        i_scores.append(val)\\n\""
      ]
     },
     "execution_count": 14,
     "metadata": {},
     "output_type": "execute_result"
    }
   ],
   "source": [
    "%matplotlib inline\n",
    "# plot the scores\n",
    "fig = plt.figure()\n",
    "ax = fig.add_subplot(111)\n",
    "plt.plot(np.arange(len(scores)), scores)\n",
    "plt.ylabel('Score')\n",
    "plt.xlabel('Episode #')\n",
    "plt.show()\n",
    "\n",
    "# Save scores\n",
    "with open('scores.txt', 'w') as f:\n",
    "    for item in scores:\n",
    "        f.write(\"%f\\n\" % item)\n",
    "\"\"\"\n",
    "#To get the saved scores into a list we can just run the next code\n",
    "\n",
    "i_scores = []\n",
    "with open('scores.txt', 'r') as f:  \n",
    "    for line in f:\n",
    "        # remove linebreak which is the last character of the string\n",
    "        val = line[:-1]\n",
    "        # add item to the list\n",
    "        i_scores.append(val)\n",
    "\"\"\""
   ]
  },
  {
   "cell_type": "markdown",
   "metadata": {},
   "source": [
    "## Loading pretrained model and testing only\n",
    "\n",
    "Run the next cell for testing only. Notice that we are re loading the environment, this time the version with visual interface attached. Also our pretrained model is being loaded into an agent instance and used for the loop."
   ]
  },
  {
   "cell_type": "code",
   "execution_count": 1,
   "metadata": {},
   "outputs": [
    {
     "name": "stderr",
     "output_type": "stream",
     "text": [
      "INFO:unityagents:\n",
      "'Academy' started successfully!\n",
      "Unity Academy name: Academy\n",
      "        Number of Brains: 1\n",
      "        Number of External Brains : 1\n",
      "        Lesson number : 0\n",
      "        Reset Parameters :\n",
      "\t\t\n",
      "Unity brain name: BananaBrain\n",
      "        Number of Visual Observations (per agent): 0\n",
      "        Vector Observation space type: continuous\n",
      "        Vector Observation space size (per agent): 37\n",
      "        Number of stacked Vector Observation: 1\n",
      "        Vector Action space type: discrete\n",
      "        Vector Action space size (per agent): 4\n",
      "        Vector Action descriptions: , , , \n"
     ]
    },
    {
     "name": "stdout",
     "output_type": "stream",
     "text": [
      "Number of actions: 4\n",
      "States look like: [1.         0.         0.         0.         0.84408134 0.\n",
      " 0.         1.         0.         0.0748472  0.         1.\n",
      " 0.         0.         0.25755    1.         0.         0.\n",
      " 0.         0.74177343 0.         1.         0.         0.\n",
      " 0.25854847 0.         0.         1.         0.         0.09355672\n",
      " 0.         1.         0.         0.         0.31969345 0.\n",
      " 0.        ]\n",
      "States have length: 37\n",
      "Score: 16.00"
     ]
    }
   ],
   "source": [
    "from unityagents import UnityEnvironment\n",
    "import numpy as np\n",
    "import torch\n",
    "from prio_rep_double_dqn_agent import Agent\n",
    "\n",
    "env = UnityEnvironment(file_name=\"Banana_Linux/Banana.x86_64\")\n",
    "brain_name = env.brain_names[0]\n",
    "brain = env.brains[brain_name]\n",
    "env_info = env.reset(train_mode=True)[brain_name]\n",
    "action_size = brain.vector_action_space_size\n",
    "print('Number of actions:', action_size)\n",
    "state = env_info.vector_observations[0]\n",
    "print('States look like:', state)\n",
    "state_size = len(state)\n",
    "print('States have length:', state_size)\n",
    "\n",
    "chp = torch.load('checkpoint.pth')\n",
    "agent = Agent(state_size=37, action_size=4, hidden_size=2400, seed=0, checkpoint = chp)\n",
    "\n",
    "env_info = env.reset(train_mode=False)[brain_name]  # reset the environment\n",
    "state = env_info.vector_observations[0]  # get the current state\n",
    "score = 0  # initialize the score\n",
    "\n",
    "while True:\n",
    "    action = agent.act(state)  # select an action\n",
    "    env_info = env.step(action)[brain_name]  # send the action to the environment\n",
    "    next_state = env_info.vector_observations[0]  # get the next state\n",
    "    reward = env_info.rewards[0]  # get the reward\n",
    "    done = env_info.local_done[0]  # see if episode has finished\n",
    "    score += reward  # update the score\n",
    "    print('\\rScore: {:.2f}'.format(score),end=\"\")\n",
    "    state = next_state  # roll over the state to next time step\n",
    "    if done:  # exit loop if episode finished\n",
    "        break\n",
    "\n",
    "env.close()"
   ]
  }
 ],
 "metadata": {
  "kernelspec": {
   "display_name": "Python 3",
   "language": "python",
   "name": "python3"
  },
  "language_info": {
   "codemirror_mode": {
    "name": "ipython",
    "version": 3
   },
   "file_extension": ".py",
   "mimetype": "text/x-python",
   "name": "python",
   "nbconvert_exporter": "python",
   "pygments_lexer": "ipython3",
   "version": "3.6.7"
  }
 },
 "nbformat": 4,
 "nbformat_minor": 2
}
